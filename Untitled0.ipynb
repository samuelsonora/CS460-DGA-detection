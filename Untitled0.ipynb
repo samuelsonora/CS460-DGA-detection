{
  "nbformat": 4,
  "nbformat_minor": 0,
  "metadata": {
    "colab": {
      "name": "Untitled0.ipynb",
      "version": "0.3.2",
      "provenance": [],
      "collapsed_sections": [],
      "include_colab_link": true
    },
    "kernelspec": {
      "name": "python3",
      "display_name": "Python 3"
    },
    "accelerator": "GPU"
  },
  "cells": [
    {
      "cell_type": "markdown",
      "metadata": {
        "id": "view-in-github",
        "colab_type": "text"
      },
      "source": [
        "<a href=\"https://colab.research.google.com/github/samuelsonora/CS460-DGA-detection/blob/master/Untitled0.ipynb\" target=\"_parent\"><img src=\"https://colab.research.google.com/assets/colab-badge.svg\" alt=\"Open In Colab\"/></a>"
      ]
    },
    {
      "cell_type": "code",
      "metadata": {
        "id": "gNKvJrHB4pjH",
        "colab_type": "code",
        "outputId": "757b9717-fcb8-42af-dc87-1f1fd2fe24ba",
        "colab": {
          "base_uri": "https://localhost:8080/",
          "height": 34
        }
      },
      "source": [
        "import numpy as np\n",
        "import matplotlib.pyplot as plt\n",
        "from keras.models import Sequential, model_from_json\n",
        "import keras.layers\n",
        "from keras.layers import Dropout,Embedding,Conv1D,Dense,Flatten,LSTM,Activation\n",
        "from keras.optimizers import Adam\n",
        "import pandas as pd\n",
        "from sklearn.ensemble import RandomForestClassifier\n"
      ],
      "execution_count": 0,
      "outputs": [
        {
          "output_type": "stream",
          "text": [
            "Using TensorFlow backend.\n"
          ],
          "name": "stderr"
        }
      ]
    },
    {
      "cell_type": "markdown",
      "metadata": {
        "id": "q9q5Qd2W8eJn",
        "colab_type": "text"
      },
      "source": [
        ""
      ]
    },
    {
      "cell_type": "code",
      "metadata": {
        "id": "uO7T9l4c4wfM",
        "colab_type": "code",
        "outputId": "e2591f54-3fc7-41f0-e9ea-0e683cf181bb",
        "colab": {
          "base_uri": "https://localhost:8080/",
          "height": 34
        }
      },
      "source": [
        "import tensorflow\n",
        "device_name = tensorflow.test.gpu_device_name()\n",
        "if device_name != '/device:GPU:0':\n",
        "  raise SystemError('GPU device not found')\n",
        "print('Found GPU at: {}'.format(device_name))"
      ],
      "execution_count": 0,
      "outputs": [
        {
          "output_type": "stream",
          "text": [
            "Found GPU at: /device:GPU:0\n"
          ],
          "name": "stdout"
        }
      ]
    },
    {
      "cell_type": "code",
      "metadata": {
        "id": "19zsiAwzH_Bm",
        "colab_type": "code",
        "outputId": "8aa3d780-ceb0-4bf1-fe3a-97820fb5accc",
        "colab": {
          "base_uri": "https://localhost:8080/",
          "height": 122
        }
      },
      "source": [
        "from google.colab import drive\n",
        "drive.mount('/content/drive')"
      ],
      "execution_count": 0,
      "outputs": [
        {
          "output_type": "stream",
          "text": [
            "Go to this URL in a browser: https://accounts.google.com/o/oauth2/auth?client_id=947318989803-6bn6qk8qdgf4n4g3pfee6491hc0brc4i.apps.googleusercontent.com&redirect_uri=urn%3Aietf%3Awg%3Aoauth%3A2.0%3Aoob&scope=email%20https%3A%2F%2Fwww.googleapis.com%2Fauth%2Fdocs.test%20https%3A%2F%2Fwww.googleapis.com%2Fauth%2Fdrive%20https%3A%2F%2Fwww.googleapis.com%2Fauth%2Fdrive.photos.readonly%20https%3A%2F%2Fwww.googleapis.com%2Fauth%2Fpeopleapi.readonly&response_type=code\n",
            "\n",
            "Enter your authorization code:\n",
            "··········\n",
            "Mounted at /content/drive\n"
          ],
          "name": "stdout"
        }
      ]
    },
    {
      "cell_type": "code",
      "metadata": {
        "id": "1NKAnn4fViik",
        "colab_type": "code",
        "colab": {}
      },
      "source": [
        "def featureData(filename,special=False):\n",
        "  train_x = []\n",
        "  train_y = []\n",
        "  temp = []\n",
        "  \n",
        "  '''\n",
        "  x format:\n",
        "  [sld,tld,MX,SPF,NXDOMAIN,TTL]\n",
        "  \n",
        "  y format:\n",
        "  [label]\n",
        "  '''\n",
        "    \n",
        "  path = \"/content/drive/My Drive/Colab Notebooks/data/\"+filename\n",
        "  with open(path,\"r\") as f:\n",
        "    for line in f:\n",
        "\n",
        "      line = line.strip()\n",
        "      line = line.split(\",\")\n",
        "      \n",
        "      line[0] = line[0].ljust(63,'0')\n",
        "      vectorized = [ord(i) for i in line[0]]\n",
        "      temp.append(vectorized)\n",
        "      for index in range(0,len(line)-1):\n",
        "        if special:\n",
        "          if index ==6:\n",
        "            continue\n",
        "            \n",
        "        if index ==1:\n",
        "          temp.append(line[index])\n",
        "        elif index == 0 or index == 2:\n",
        "          pass          \n",
        "        else:\n",
        "          try:\n",
        "            temp.append(int(line[index]))\n",
        "          except:\n",
        "            temp.append(0)\n",
        "\n",
        "      train_x.append(temp)\n",
        "      if line[len(line)-1] =='bad':\n",
        "        train_y.append(1)\n",
        "      elif line[len(line)-1] =='good':\n",
        "        train_y.append(0)\n",
        "      else:\n",
        "        print(\"invalid label\")\n",
        "     \n",
        "      temp = []\n",
        "  \n",
        "  train_x = np.array(train_x)\n",
        "  train_y = np.array(train_y)\n",
        "  train_x[:,1],uniques = pd.factorize(train_x[:,1])\n",
        "      \n",
        "  return train_x,train_y"
      ],
      "execution_count": 0,
      "outputs": []
    },
    {
      "cell_type": "code",
      "metadata": {
        "id": "idJVo6MXJIet",
        "colab_type": "code",
        "colab": {}
      },
      "source": [
        "def train_CNN(inputname,weight_name,train=True):\n",
        "  model = Sequential(name='Seq')\n",
        "  model.add(Embedding(256, 128, input_length=63))\n",
        "  model.add(Conv1D(1000, 2, padding='same',kernel_initializer ='glorot_normal', activation ='relu'))\n",
        "  model.add(Dropout(0.5))\n",
        "  model.add(Flatten())\n",
        "  model.add(Dense(100, activation ='relu',kernel_initializer ='glorot_normal'))\n",
        "  model.add(Dense(1, activation ='sigmoid',kernel_initializer ='glorot_normal'))\n",
        "  model.compile(loss='binary_crossentropy',optimizer='adam', metrics=['accuracy'])\n",
        "\n",
        "  path = \"/content/drive/My Drive/Colab Notebooks/\"\n",
        "  x,y = featureData(inputname)\n",
        "  \n",
        "  NN_array = np.zeros((x.shape[0],63))\n",
        "\n",
        "  for i in range(x.shape[0]):\n",
        "    NN_array[i] = [x[i,0][m] for m in range(63)]\n",
        "    \n",
        "  history = model.fit(NN_array, y,validation_split=0.2, epochs=20)\n",
        "\n",
        "  model_json = model.to_json()\n",
        "  with open(path+\"{}.json\".format(weight_name),\"w\") as f:\n",
        "    f.write(model_json)\n",
        "  model.save_weights(path+\"{}.h5\".format(weight_name))\n",
        "  return history"
      ],
      "execution_count": 0,
      "outputs": []
    },
    {
      "cell_type": "code",
      "metadata": {
        "id": "FbKUowBVGJ2O",
        "colab_type": "code",
        "colab": {}
      },
      "source": [
        "def test_CNN(weight_name):\n",
        "  path = \"/content/drive/My Drive/Colab Notebooks/\"\n",
        "  with open(path+\"{}.json\".format(weight_name),\"r\") as f:\n",
        "    loaded_model_json = f.read()\n",
        "    loaded_model = model_from_json(loaded_model_json)\n",
        "    loaded_model.load_weights(path+\"{}.h5\".format(weight_name))\n",
        "  return loaded_model"
      ],
      "execution_count": 0,
      "outputs": []
    },
    {
      "cell_type": "code",
      "metadata": {
        "id": "w_KMFUh6KI7g",
        "colab_type": "code",
        "colab": {}
      },
      "source": [
        "def train_LSTM(inputname,weight_name):\n",
        "  model = Sequential(name='Seq') \n",
        "  model.add(Embedding(256, 128, input_length=63)) \n",
        "  model.add(LSTM(units=128, unroll=True)) \n",
        "  model.add(Dropout(0.5))\n",
        "  #model.add(Dense(100))\n",
        "  model.add(Dense(1))\n",
        "  model.add(Activation ('sigmoid'))\n",
        "  #adam = Adam(lr=0.001, beta_1=0.9, beta_2=0.999,epsilon=None, decay=0.001)\n",
        "  model.compile(loss='binary_crossentropy', optimizer='rmsprop', metrics=['accuracy'])\n",
        "  \n",
        "  path = \"/content/drive/My Drive/Colab Notebooks/\"\n",
        "  x,y = featureData(inputname)\n",
        "  \n",
        "  NN_array = np.zeros((x.shape[0],63))\n",
        "\n",
        "  for i in range(x.shape[0]):\n",
        "    NN_array[i] = [x[i,0][m] for m in range(63)]\n",
        "    \n",
        "  history = model.fit( NN_array, y,validation_split=0.2, epochs=30)\n",
        "\n",
        "  model_json = model.to_json()\n",
        "  with open(path+\"{}.json\".format(weight_name),\"w\") as f:\n",
        "    f.write(model_json)\n",
        "  model.save_weights(path+\"{}.h5\".format(weight_name))\n",
        "  return history\n"
      ],
      "execution_count": 0,
      "outputs": []
    },
    {
      "cell_type": "code",
      "metadata": {
        "id": "wzLNaTvtG64m",
        "colab_type": "code",
        "colab": {}
      },
      "source": [
        "def test_LSTM(weight_name):\n",
        "  path = \"/content/drive/My Drive/Colab Notebooks/\"\n",
        "  with open(path+\"{}.json\".format(weight_name),\"r\") as f:\n",
        "    loaded_model_json = f.read()\n",
        "    loaded_model = model_from_json(loaded_model_json)\n",
        "    loaded_model.load_weights(path+\"{}.h5\".format(weight_name))\n",
        "  return loaded_model"
      ],
      "execution_count": 0,
      "outputs": []
    },
    {
      "cell_type": "code",
      "metadata": {
        "id": "bVa4TbOkNzgN",
        "colab_type": "code",
        "colab": {}
      },
      "source": [
        "def gen_accuracy(train,test):\n",
        "  if len(train) != len(test):\n",
        "    print(\"size does not match\")\n",
        "    return \n",
        "  \n",
        "  result = []\n",
        "  con_matrix = np.zeros((2,2))\n",
        "  \n",
        "  total = len(train)\n",
        "  match = 0\n",
        "  mismatch = 0\n",
        "  for index in range(len(train)):\n",
        "    if int(train[index][0]) == int(test[index]):\n",
        "      match+=1\n",
        "    else:\n",
        "      result.append(index)\n",
        "      mismatch+=1\n",
        "    con_matrix[int(train[index][0])][int(test[index])]+=1\n",
        "  print(\"accuracy is %.2f%%, matched %d, mismatched %d\" % ((match*100/total),match,mismatch))\n",
        "  print(con_matrix)\n",
        "  print()\n",
        "  return result\n",
        "    \n",
        "  "
      ],
      "execution_count": 0,
      "outputs": []
    },
    {
      "cell_type": "code",
      "metadata": {
        "id": "ySPHHjvV3bIy",
        "colab_type": "code",
        "outputId": "96783ec5-460b-4329-fc1f-4a397b31c465",
        "colab": {
          "base_uri": "https://localhost:8080/",
          "height": 884
        }
      },
      "source": [
        "#only CNN\n",
        "\n",
        "weight_filename = 'cnn_model_final'\n",
        "train_name = 'train_label.txt'\n",
        "\n",
        "history_CNN = train_CNN(train_name,weight_filename)\n",
        "\n",
        "print(\"CNN Results Exp 1\")\n",
        "testX,testY = featureData('test_label.txt')\n",
        "NN_array = np.zeros((testX.shape[0],63))\n",
        "for i in range(testX.shape[0]):\n",
        "  NN_array[i] = [testX[i,0][m] for m in range(63)]\n",
        "\n",
        "model = test_CNN(weight_filename)\n",
        "output = model.predict_classes(NN_array)\n",
        "\n",
        "cnn_result_exp1 = gen_accuracy(output,testY)\n",
        "\n",
        "#-----------------------------------------\n",
        "print(\"CNN Results Exp 2\")\n",
        "testX,testY = featureData('test_v3_label.txt')\n",
        "NN_array = np.zeros((testX.shape[0],63))\n",
        "for i in range(testX.shape[0]):\n",
        "  NN_array[i] = [testX[i,0][m] for m in range(63)]\n",
        "\n",
        "model = test_CNN(weight_filename)\n",
        "output = model.predict_classes(NN_array)\n",
        "\n",
        "cnn_result_exp2 =gen_accuracy(output,testY)"
      ],
      "execution_count": 0,
      "outputs": [
        {
          "output_type": "stream",
          "text": [
            "Train on 16000 samples, validate on 4000 samples\n",
            "Epoch 1/20\n",
            "16000/16000 [==============================] - 12s 737us/step - loss: 0.1688 - acc: 0.9372 - val_loss: 0.2783 - val_acc: 0.9087\n",
            "Epoch 2/20\n",
            "16000/16000 [==============================] - 5s 324us/step - loss: 0.1069 - acc: 0.9632 - val_loss: 0.1518 - val_acc: 0.9480\n",
            "Epoch 3/20\n",
            "16000/16000 [==============================] - 5s 323us/step - loss: 0.0861 - acc: 0.9711 - val_loss: 0.1635 - val_acc: 0.9440\n",
            "Epoch 4/20\n",
            "16000/16000 [==============================] - 5s 323us/step - loss: 0.0718 - acc: 0.9762 - val_loss: 0.1236 - val_acc: 0.9560\n",
            "Epoch 5/20\n",
            "16000/16000 [==============================] - 5s 337us/step - loss: 0.0648 - acc: 0.9782 - val_loss: 0.2132 - val_acc: 0.9385\n",
            "Epoch 6/20\n",
            "16000/16000 [==============================] - 6s 345us/step - loss: 0.0572 - acc: 0.9796 - val_loss: 0.2227 - val_acc: 0.9345\n",
            "Epoch 7/20\n",
            "16000/16000 [==============================] - 5s 330us/step - loss: 0.0481 - acc: 0.9841 - val_loss: 0.0956 - val_acc: 0.9667\n",
            "Epoch 8/20\n",
            "16000/16000 [==============================] - 5s 324us/step - loss: 0.0411 - acc: 0.9862 - val_loss: 0.1496 - val_acc: 0.9577\n",
            "Epoch 9/20\n",
            "16000/16000 [==============================] - 5s 324us/step - loss: 0.0367 - acc: 0.9863 - val_loss: 0.1792 - val_acc: 0.9567\n",
            "Epoch 10/20\n",
            "16000/16000 [==============================] - 5s 323us/step - loss: 0.0281 - acc: 0.9901 - val_loss: 0.2010 - val_acc: 0.9493\n",
            "Epoch 11/20\n",
            "16000/16000 [==============================] - 5s 327us/step - loss: 0.0281 - acc: 0.9902 - val_loss: 0.1585 - val_acc: 0.9585\n",
            "Epoch 12/20\n",
            "16000/16000 [==============================] - 5s 338us/step - loss: 0.0248 - acc: 0.9910 - val_loss: 0.1482 - val_acc: 0.9613\n",
            "Epoch 13/20\n",
            "16000/16000 [==============================] - 5s 334us/step - loss: 0.0222 - acc: 0.9918 - val_loss: 0.1984 - val_acc: 0.9615\n",
            "Epoch 14/20\n",
            "16000/16000 [==============================] - 5s 326us/step - loss: 0.0191 - acc: 0.9931 - val_loss: 0.1941 - val_acc: 0.9575\n",
            "Epoch 15/20\n",
            "16000/16000 [==============================] - 5s 329us/step - loss: 0.0195 - acc: 0.9932 - val_loss: 0.1878 - val_acc: 0.9563\n",
            "Epoch 16/20\n",
            "16000/16000 [==============================] - 5s 329us/step - loss: 0.0115 - acc: 0.9955 - val_loss: 0.2232 - val_acc: 0.9590\n",
            "Epoch 17/20\n",
            "16000/16000 [==============================] - 5s 327us/step - loss: 0.0157 - acc: 0.9947 - val_loss: 0.2739 - val_acc: 0.9505\n",
            "Epoch 18/20\n",
            "16000/16000 [==============================] - 5s 328us/step - loss: 0.0149 - acc: 0.9950 - val_loss: 0.2449 - val_acc: 0.9557\n",
            "Epoch 19/20\n",
            "16000/16000 [==============================] - 5s 327us/step - loss: 0.0168 - acc: 0.9945 - val_loss: 0.2386 - val_acc: 0.9605\n",
            "Epoch 20/20\n",
            "16000/16000 [==============================] - 5s 329us/step - loss: 0.0102 - acc: 0.9964 - val_loss: 0.2931 - val_acc: 0.9565\n",
            "CNN Results Exp 1\n",
            "accuracy is 97.20%, matched 19441, mismatched 559\n",
            "[[9885.  444.]\n",
            " [ 115. 9556.]]\n",
            "\n",
            "CNN Results Exp 2\n",
            "accuracy is 1.95%, matched 35, mismatched 1757\n",
            "[[   0. 1757.]\n",
            " [   0.   35.]]\n",
            "\n"
          ],
          "name": "stdout"
        }
      ]
    },
    {
      "cell_type": "code",
      "metadata": {
        "id": "B7tjz6DD5pzc",
        "colab_type": "code",
        "outputId": "da84a348-4bdc-485e-875b-20731ad199b6",
        "colab": {
          "base_uri": "https://localhost:8080/",
          "height": 1224
        }
      },
      "source": [
        "#only LSTM\n",
        "\n",
        "weight_filename = 'lstm_model_final'\n",
        "train_name = 'train_label.txt'\n",
        "\n",
        "history_LSTM = train_LSTM(train_name,weight_filename)\n",
        "\n",
        "print(\"LSTM Results Exp 1\")\n",
        "testX,testY = featureData('test_label.txt')\n",
        "NN_array = np.zeros((testX.shape[0],63))\n",
        "for i in range(testX.shape[0]):\n",
        "  NN_array[i] = [testX[i,0][m] for m in range(63)]\n",
        "\n",
        "model = test_LSTM(weight_filename)\n",
        "output = model.predict_classes(NN_array)\n",
        "\n",
        "lstm_result_exp1 = gen_accuracy(output,testY)\n",
        "\n",
        "#-----------------------------------------\n",
        "print(\"LSTM Results Exp 2\")\n",
        "testX,testY = featureData('test_v3_label.txt')\n",
        "NN_array = np.zeros((testX.shape[0],63))\n",
        "for i in range(testX.shape[0]):\n",
        "  NN_array[i] = [testX[i,0][m] for m in range(63)]\n",
        "\n",
        "model = test_LSTM(weight_filename)\n",
        "output = model.predict_classes(NN_array)\n",
        "\n",
        "lstm_result_exp2 =gen_accuracy(output,testY)\n",
        "\n"
      ],
      "execution_count": 0,
      "outputs": [
        {
          "output_type": "stream",
          "text": [
            "Train on 16000 samples, validate on 4000 samples\n",
            "Epoch 1/30\n",
            "16000/16000 [==============================] - 51s 3ms/step - loss: 0.5389 - acc: 0.7228 - val_loss: 0.2263 - val_acc: 0.8845\n",
            "Epoch 2/30\n",
            "16000/16000 [==============================] - 29s 2ms/step - loss: 0.2947 - acc: 0.8822 - val_loss: 0.3686 - val_acc: 0.7967\n",
            "Epoch 3/30\n",
            "16000/16000 [==============================] - 31s 2ms/step - loss: 0.2379 - acc: 0.9098 - val_loss: 0.3218 - val_acc: 0.8805\n",
            "Epoch 4/30\n",
            "16000/16000 [==============================] - 30s 2ms/step - loss: 0.2110 - acc: 0.9201 - val_loss: 0.3656 - val_acc: 0.8672\n",
            "Epoch 5/30\n",
            "16000/16000 [==============================] - 30s 2ms/step - loss: 0.1736 - acc: 0.9371 - val_loss: 0.2317 - val_acc: 0.9133\n",
            "Epoch 6/30\n",
            "16000/16000 [==============================] - 31s 2ms/step - loss: 0.1474 - acc: 0.9525 - val_loss: 0.2699 - val_acc: 0.8925\n",
            "Epoch 7/30\n",
            "16000/16000 [==============================] - 30s 2ms/step - loss: 0.1326 - acc: 0.9566 - val_loss: 0.2429 - val_acc: 0.9155\n",
            "Epoch 8/30\n",
            "16000/16000 [==============================] - 30s 2ms/step - loss: 0.1207 - acc: 0.9620 - val_loss: 0.2024 - val_acc: 0.9313\n",
            "Epoch 9/30\n",
            "16000/16000 [==============================] - 31s 2ms/step - loss: 0.1114 - acc: 0.9658 - val_loss: 0.1539 - val_acc: 0.9445\n",
            "Epoch 10/30\n",
            "16000/16000 [==============================] - 31s 2ms/step - loss: 0.1054 - acc: 0.9680 - val_loss: 0.1079 - val_acc: 0.9573\n",
            "Epoch 11/30\n",
            "16000/16000 [==============================] - 31s 2ms/step - loss: 0.0956 - acc: 0.9688 - val_loss: 0.1788 - val_acc: 0.9263\n",
            "Epoch 12/30\n",
            "16000/16000 [==============================] - 30s 2ms/step - loss: 0.0896 - acc: 0.9731 - val_loss: 0.1834 - val_acc: 0.9383\n",
            "Epoch 13/30\n",
            "16000/16000 [==============================] - 30s 2ms/step - loss: 0.0843 - acc: 0.9726 - val_loss: 0.2368 - val_acc: 0.9343\n",
            "Epoch 14/30\n",
            "16000/16000 [==============================] - 31s 2ms/step - loss: 0.0808 - acc: 0.9756 - val_loss: 0.1367 - val_acc: 0.9493\n",
            "Epoch 15/30\n",
            "16000/16000 [==============================] - 31s 2ms/step - loss: 0.0740 - acc: 0.9776 - val_loss: 0.1652 - val_acc: 0.9387\n",
            "Epoch 16/30\n",
            "16000/16000 [==============================] - 31s 2ms/step - loss: 0.0715 - acc: 0.9786 - val_loss: 0.1759 - val_acc: 0.9490\n",
            "Epoch 17/30\n",
            "16000/16000 [==============================] - 30s 2ms/step - loss: 0.0634 - acc: 0.9821 - val_loss: 0.1717 - val_acc: 0.9490\n",
            "Epoch 18/30\n",
            "16000/16000 [==============================] - 30s 2ms/step - loss: 0.0603 - acc: 0.9818 - val_loss: 0.1568 - val_acc: 0.9520\n",
            "Epoch 19/30\n",
            "16000/16000 [==============================] - 31s 2ms/step - loss: 0.0558 - acc: 0.9841 - val_loss: 0.1305 - val_acc: 0.9497\n",
            "Epoch 20/30\n",
            "16000/16000 [==============================] - 32s 2ms/step - loss: 0.0524 - acc: 0.9853 - val_loss: 0.1419 - val_acc: 0.9650\n",
            "Epoch 21/30\n",
            "16000/16000 [==============================] - 30s 2ms/step - loss: 0.0468 - acc: 0.9871 - val_loss: 0.0982 - val_acc: 0.9690\n",
            "Epoch 22/30\n",
            "16000/16000 [==============================] - 31s 2ms/step - loss: 0.0433 - acc: 0.9885 - val_loss: 0.1757 - val_acc: 0.9583\n",
            "Epoch 23/30\n",
            "16000/16000 [==============================] - 30s 2ms/step - loss: 0.0367 - acc: 0.9901 - val_loss: 0.2882 - val_acc: 0.9417\n",
            "Epoch 24/30\n",
            "16000/16000 [==============================] - 31s 2ms/step - loss: 0.0338 - acc: 0.9908 - val_loss: 0.1744 - val_acc: 0.9617\n",
            "Epoch 25/30\n",
            "16000/16000 [==============================] - 31s 2ms/step - loss: 0.0326 - acc: 0.9924 - val_loss: 0.1896 - val_acc: 0.9550\n",
            "Epoch 26/30\n",
            "16000/16000 [==============================] - 30s 2ms/step - loss: 0.0275 - acc: 0.9932 - val_loss: 0.2561 - val_acc: 0.9483\n",
            "Epoch 27/30\n",
            "16000/16000 [==============================] - 31s 2ms/step - loss: 0.0264 - acc: 0.9937 - val_loss: 0.2857 - val_acc: 0.9520\n",
            "Epoch 28/30\n",
            "16000/16000 [==============================] - 30s 2ms/step - loss: 0.0244 - acc: 0.9942 - val_loss: 0.1914 - val_acc: 0.9685\n",
            "Epoch 29/30\n",
            "16000/16000 [==============================] - 31s 2ms/step - loss: 0.0236 - acc: 0.9946 - val_loss: 0.2083 - val_acc: 0.9625\n",
            "Epoch 30/30\n",
            "16000/16000 [==============================] - 32s 2ms/step - loss: 0.0239 - acc: 0.9946 - val_loss: 0.2882 - val_acc: 0.9475\n",
            "LSTM Results Exp 1\n",
            "accuracy is 96.59%, matched 19318, mismatched 682\n",
            "[[9853.  535.]\n",
            " [ 147. 9465.]]\n",
            "\n",
            "LSTM Results Exp 2\n",
            "accuracy is 1.73%, matched 31, mismatched 1761\n",
            "[[   0. 1761.]\n",
            " [   0.   31.]]\n",
            "\n"
          ],
          "name": "stdout"
        }
      ]
    },
    {
      "cell_type": "code",
      "metadata": {
        "id": "RsP6zu8P5_lo",
        "colab_type": "code",
        "outputId": "7a2abd93-fa91-4fd2-9dd5-723e99a3b4d0",
        "colab": {
          "base_uri": "https://localhost:8080/",
          "height": 292
        }
      },
      "source": [
        "#only Random Forest\n",
        "\n",
        "print(\"Training phase....\")\n",
        "train_x,train_y = featureData('train_label.txt')\n",
        "\n",
        "\n",
        "x = train_x[:,1:6]\n",
        "clf = RandomForestClassifier(n_jobs=4, random_state=0)\n",
        "clf.fit(x,train_y)\n",
        "\n",
        "print(\"Testing phase...Exp 1\")\n",
        "testX,testY = featureData('test_label.txt')\n",
        "output = clf.predict(testX[:,1:6])\n",
        "rf_result_exp1= gen_accuracy(np.expand_dims(output,axis=1),testY)\n",
        "\n",
        "print(\"feature importances...Exp 1\")\n",
        "print(clf.feature_importances_)\n",
        "\n",
        "# -------------------------------------\n",
        "print(\"Testing phase...Exp 2\")\n",
        "testX,testY = featureData('test_v3_label.txt')\n",
        "output = clf.predict(testX[:,1:6])\n",
        "rf_result_exp2 =gen_accuracy(np.expand_dims(output,axis=1),testY)\n",
        "\n",
        "print(\"feature importances...Exp 2\")\n",
        "print(clf.feature_importances_)\n"
      ],
      "execution_count": 0,
      "outputs": [
        {
          "output_type": "stream",
          "text": [
            "Training phase....\n"
          ],
          "name": "stdout"
        },
        {
          "output_type": "stream",
          "text": [
            "/usr/local/lib/python3.6/dist-packages/sklearn/ensemble/forest.py:246: FutureWarning: The default value of n_estimators will change from 10 in version 0.20 to 100 in 0.22.\n",
            "  \"10 in version 0.20 to 100 in 0.22.\", FutureWarning)\n"
          ],
          "name": "stderr"
        },
        {
          "output_type": "stream",
          "text": [
            "Testing phase...Exp 1\n",
            "accuracy is 95.40%, matched 19080, mismatched 920\n",
            "[[9328.  248.]\n",
            " [ 672. 9752.]]\n",
            "feature importances...Exp 1\n",
            "[0.02606779 0.22928056 0.00194213 0.33446914 0.40824038]\n",
            "Testing phase...Exp 2\n",
            "accuracy is 79.41%, matched 1423, mismatched 369\n",
            "[[   0.  369.]\n",
            " [   0. 1423.]]\n",
            "feature importances...Exp 2\n",
            "[0.02606779 0.22928056 0.00194213 0.33446914 0.40824038]\n"
          ],
          "name": "stdout"
        }
      ]
    },
    {
      "cell_type": "code",
      "metadata": {
        "id": "9IQzt96Ua3Kj",
        "colab_type": "code",
        "outputId": "4ccca8c6-1071-48fe-d562-9a9410670f35",
        "colab": {
          "base_uri": "https://localhost:8080/",
          "height": 343
        }
      },
      "source": [
        "#combined result\n",
        "print(\"Combined Results(CNN)\")\n",
        "\n",
        "print(\"Training Phase....\")\n",
        "\n",
        "trainX,trainY = featureData('train_label.txt')\n",
        "\n",
        "NN_array = np.zeros((trainX.shape[0],63))\n",
        "\n",
        "for i in range(trainX.shape[0]):\n",
        "  NN_array[i] = [trainX[i,0][m] for m in range(63)]\n",
        "\n",
        "model = test_CNN('cnn_model_final')\n",
        "output = model.predict_classes(NN_array)\n",
        "\n",
        "for i in range(trainX.shape[0]):\n",
        "  trainX[i,0] = int(output[i])\n",
        "\n",
        "clf = RandomForestClassifier(n_jobs=4, random_state=0)\n",
        "clf.fit(trainX,trainY)\n",
        "\n",
        "print(\"Testing Phase...EXP 1\")\n",
        "\n",
        "testX,testY = featureData('test_label.txt')\n",
        "\n",
        "NN_array = np.zeros((testX.shape[0],63))\n",
        "\n",
        "for i in range(testX.shape[0]):\n",
        "  NN_array[i] = [testX[i,0][m] for m in range(63)]\n",
        "\n",
        "model = test_CNN('cnn_model_final')\n",
        "output = model.predict_classes(NN_array)\n",
        "\n",
        "for i in range(testX.shape[0]):\n",
        "  testX[i,0] = int(output[i])\n",
        "\n",
        "output = clf.predict(testX)\n",
        "crf_result_exp1 = gen_accuracy(np.expand_dims(output,axis=1),testY)\n",
        "\n",
        "print(\"feature importances...EXP 1\")\n",
        "print(clf.feature_importances_)\n",
        "\n",
        "#-----------------------------------\n",
        "print(\"Testing Phase...EXP 2\")\n",
        "\n",
        "testX,testY = featureData('test_v3_label.txt')\n",
        "\n",
        "NN_array = np.zeros((testX.shape[0],63))\n",
        "\n",
        "for i in range(testX.shape[0]):\n",
        "  NN_array[i] = [testX[i,0][m] for m in range(63)]\n",
        "\n",
        "model = test_CNN('cnn_model_final')\n",
        "output = model.predict_classes(NN_array)\n",
        "\n",
        "for i in range(testX.shape[0]):\n",
        "  testX[i,0] = int(output[i])\n",
        "\n",
        "output = clf.predict(testX)\n",
        "crf_result_exp2 =gen_accuracy(np.expand_dims(output,axis=1),testY)\n",
        "\n",
        "print(\"feature importances...EXP 2\")\n",
        "print(clf.feature_importances_)\n",
        "\n"
      ],
      "execution_count": 0,
      "outputs": [
        {
          "output_type": "stream",
          "text": [
            "Combined Results(CNN)\n",
            "Training Phase....\n"
          ],
          "name": "stdout"
        },
        {
          "output_type": "stream",
          "text": [
            "/usr/local/lib/python3.6/dist-packages/sklearn/ensemble/forest.py:246: FutureWarning: The default value of n_estimators will change from 10 in version 0.20 to 100 in 0.22.\n",
            "  \"10 in version 0.20 to 100 in 0.22.\", FutureWarning)\n"
          ],
          "name": "stderr"
        },
        {
          "output_type": "stream",
          "text": [
            "Testing Phase...EXP 1\n",
            "accuracy is 98.86%, matched 19771, mismatched 229\n",
            "[[9851.   80.]\n",
            " [ 149. 9920.]]\n",
            "\n",
            "feature importances...EXP 1\n",
            "[0.31065975 0.01094702 0.2253081  0.00130567 0.36043784 0.09134161]\n",
            "Testing Phase...EXP 2\n",
            "accuracy is 79.58%, matched 1426, mismatched 366\n",
            "[[   0.  366.]\n",
            " [   0. 1426.]]\n",
            "\n",
            "feature importances...EXP 2\n",
            "[0.31065975 0.01094702 0.2253081  0.00130567 0.36043784 0.09134161]\n"
          ],
          "name": "stdout"
        }
      ]
    },
    {
      "cell_type": "code",
      "metadata": {
        "id": "EwKsWpib89YN",
        "colab_type": "code",
        "outputId": "7a41a15f-43b1-4778-a0c7-4da69ea485fc",
        "colab": {
          "base_uri": "https://localhost:8080/",
          "height": 343
        }
      },
      "source": [
        "#combined result\n",
        "print(\"Combined Results(LSTM+RF)\")\n",
        "\n",
        "print(\"Training Phase....\")\n",
        "\n",
        "trainX,trainY = featureData('train_label.txt')\n",
        "\n",
        "NN_array = np.zeros((trainX.shape[0],63))\n",
        "\n",
        "for i in range(trainX.shape[0]):\n",
        "  NN_array[i] = [trainX[i,0][m] for m in range(63)]\n",
        "\n",
        "model = test_CNN('lstm_model_final')\n",
        "output = model.predict_classes(NN_array)\n",
        "\n",
        "for i in range(trainX.shape[0]):\n",
        "  trainX[i,0] = int(output[i])\n",
        "\n",
        "clf = RandomForestClassifier(n_jobs=4, random_state=0)\n",
        "clf.fit(trainX,trainY)\n",
        "\n",
        "print(\"Testing Phase...EXP 1\")\n",
        "\n",
        "testX,testY = featureData('test_label.txt')\n",
        "\n",
        "NN_array = np.zeros((testX.shape[0],63))\n",
        "\n",
        "for i in range(testX.shape[0]):\n",
        "  NN_array[i] = [testX[i,0][m] for m in range(63)]\n",
        "\n",
        "model = test_CNN('lstm_model_final')\n",
        "output = model.predict_classes(NN_array)\n",
        "\n",
        "for i in range(testX.shape[0]):\n",
        "  testX[i,0] = int(output[i])\n",
        "\n",
        "output = clf.predict(testX)\n",
        "crf_result_exp1 = gen_accuracy(np.expand_dims(output,axis=1),testY)\n",
        "\n",
        "print(\"feature importances...EXP 1\")\n",
        "print(clf.feature_importances_)\n",
        "\n",
        "#-----------------------------------\n",
        "print(\"Testing Phase...EXP 2\")\n",
        "\n",
        "testX,testY = featureData('test_v3_label.txt')\n",
        "\n",
        "NN_array = np.zeros((testX.shape[0],63))\n",
        "\n",
        "for i in range(testX.shape[0]):\n",
        "  NN_array[i] = [testX[i,0][m] for m in range(63)]\n",
        "\n",
        "model = test_CNN('lstm_model_final')\n",
        "output = model.predict_classes(NN_array)\n",
        "\n",
        "for i in range(testX.shape[0]):\n",
        "  testX[i,0] = int(output[i])\n",
        "\n",
        "output = clf.predict(testX)\n",
        "crf_result_exp2 =gen_accuracy(np.expand_dims(output,axis=1),testY)\n",
        "\n",
        "print(\"feature importances...EXP 2\")\n",
        "print(clf.feature_importances_)\n"
      ],
      "execution_count": 0,
      "outputs": [
        {
          "output_type": "stream",
          "text": [
            "Combined Results(LSTM+RF)\n",
            "Training Phase....\n"
          ],
          "name": "stdout"
        },
        {
          "output_type": "stream",
          "text": [
            "/usr/local/lib/python3.6/dist-packages/sklearn/ensemble/forest.py:246: FutureWarning: The default value of n_estimators will change from 10 in version 0.20 to 100 in 0.22.\n",
            "  \"10 in version 0.20 to 100 in 0.22.\", FutureWarning)\n"
          ],
          "name": "stderr"
        },
        {
          "output_type": "stream",
          "text": [
            "Testing Phase...EXP 1\n",
            "accuracy is 96.04%, matched 19208, mismatched 792\n",
            "[[9309.  101.]\n",
            " [ 691. 9899.]]\n",
            "\n",
            "feature importances...EXP 1\n",
            "[0.29445372 0.01286388 0.22794973 0.00185041 0.36489905 0.09798321]\n",
            "Testing Phase...EXP 2\n",
            "accuracy is 79.41%, matched 1423, mismatched 369\n",
            "[[   0.  369.]\n",
            " [   0. 1423.]]\n",
            "\n",
            "feature importances...EXP 2\n",
            "[0.29445372 0.01286388 0.22794973 0.00185041 0.36489905 0.09798321]\n"
          ],
          "name": "stdout"
        }
      ]
    },
    {
      "cell_type": "code",
      "metadata": {
        "id": "9-9wGP5o_r2L",
        "colab_type": "code",
        "colab": {}
      },
      "source": [
        "#combined result\n",
        "print(\"Combined Results(LSTM)+RF\")\n",
        "\n",
        "print(\"Training Phase....\")\n",
        "\n",
        "trainX,trainY = featureData('train_label.txt',special=True)\n",
        "#print(trainX.shape)\n",
        "\n",
        "NN_array = np.zeros((trainX.shape[0],63))\n",
        "\n",
        "for i in range(trainX.shape[0]):\n",
        "  NN_array[i] = [trainX[i,0][m] for m in range(63)]\n",
        "\n",
        "model = test_CNN('cnn_model_v3')\n",
        "output = model.predict_classes(NN_array)\n",
        "\n",
        "for i in range(trainX.shape[0]):\n",
        "  trainX[i,0] = int(output[i])\n",
        "\n",
        "clf = RandomForestClassifier(n_jobs=4, random_state=0)\n",
        "clf.fit(trainX,train_y)\n",
        "\n",
        "#---------------------------------\n",
        "\n",
        "print(\"Testing Phase...EXP 3\")\n",
        "\n",
        "testX,testY = featureData('test_v3_label.txt',special=True)\n",
        "\n",
        "NN_array = np.zeros((testX.shape[0],63))\n",
        "\n",
        "for i in range(testX.shape[0]):\n",
        "  NN_array[i] = [testX[i,0][m] for m in range(63)]\n",
        "\n",
        "model = test_CNN('cnn_model_v3')\n",
        "output = model.predict_classes(NN_array)\n",
        "\n",
        "for i in range(testX.shape[0]):\n",
        "  testX[i,0] = int(output[i])\n",
        "\n",
        "output = clf.predict(testX)\n",
        "crf_result_exp2 =gen_accuracy(np.expand_dims(output,axis=1),testY)\n",
        "\n",
        "print(\"feature importances...EXP 3\")\n",
        "print(clf.feature_importances_)"
      ],
      "execution_count": 0,
      "outputs": []
    },
    {
      "cell_type": "code",
      "metadata": {
        "id": "b3I25urYAku5",
        "colab_type": "code",
        "colab": {}
      },
      "source": [
        "def print_mismatches(filename,array):\n",
        "  path = \"/content/drive/My Drive/Colab Notebooks/data/\"+filename\n",
        "  \n",
        "  with open(path,\"r\") as f:\n",
        "    content = f.read().split('\\n')\n",
        "    for item in array:\n",
        "      print(content[item])\n",
        "  "
      ],
      "execution_count": 0,
      "outputs": []
    },
    {
      "cell_type": "code",
      "metadata": {
        "id": "jZD8iOUM64L-",
        "colab_type": "code",
        "colab": {}
      },
      "source": [
        "print_mismatches('test_v3_label.txt',crf_result_exp2)"
      ],
      "execution_count": 0,
      "outputs": []
    },
    {
      "cell_type": "code",
      "metadata": {
        "id": "60GZTAQI845O",
        "colab_type": "code",
        "outputId": "ad526909-2767-49e0-bf3f-83aeabeb9e98",
        "colab": {
          "base_uri": "https://localhost:8080/",
          "height": 607
        }
      },
      "source": [
        "print(history_CNN.history.keys())\n",
        "plt.plot(history_CNN.history['val_acc'])\n",
        "plt.plot(history_CNN.history['acc'])\n",
        "plt.title('CNN Accuracy vs Epochs')\n",
        "plt.xlabel('epoch')\n",
        "plt.ylabel('accuracy')\n",
        "plt.legend(['test','train'],loc='upper left')\n",
        "plt.show()\n",
        "\n",
        "\n",
        "plt.plot(history_LSTM.history['val_acc'])\n",
        "plt.plot(history_LSTM.history['acc'])\n",
        "plt.title('LSTM Accuracy vs Epochs')\n",
        "plt.xlabel('epoch')\n",
        "plt.ylabel('accuracy')\n",
        "plt.legend(['test','train'],loc='upper left')"
      ],
      "execution_count": 0,
      "outputs": [
        {
          "output_type": "stream",
          "text": [
            "dict_keys(['val_loss', 'val_acc', 'loss', 'acc'])\n"
          ],
          "name": "stdout"
        },
        {
          "output_type": "display_data",
          "data": {
            "image/png": "[encoded data removed]",
            "text/plain": [
              "<Figure size 432x288 with 1 Axes>"
            ]
          },
          "metadata": {
            "tags": []
          }
        },
        {
          "output_type": "execute_result",
          "data": {
            "text/plain": [
              "<matplotlib.legend.Legend at 0x7ff71b7e2d30>"
            ]
          },
          "metadata": {
            "tags": []
          },
          "execution_count": 37
        },
        {
          "output_type": "display_data",
          "data": {
            "image/png": "[encoded data removed]",
            "text/plain": [
              "<Figure size 432x288 with 1 Axes>"
            ]
          },
          "metadata": {
            "tags": []
          }
        }
      ]
    },
    {
      "cell_type": "code",
      "metadata": {
        "id": "Qg7MTPaGhhPI",
        "colab_type": "code",
        "colab": {}
      },
      "source": [
        ""
      ],
      "execution_count": 0,
      "outputs": []
    }
  ]
}